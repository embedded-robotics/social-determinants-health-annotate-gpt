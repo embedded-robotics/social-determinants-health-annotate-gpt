{
 "cells": [
  {
   "cell_type": "code",
   "execution_count": 1,
   "metadata": {},
   "outputs": [],
   "source": [
    "from openai import AzureOpenAI\n",
    "import pickle\n",
    "import os, sys\n",
    "import openai\n",
    "import json\n",
    "import numpy as np\n",
    "import pickle\n",
    "import pandas as pd\n",
    "from time import sleep\n",
    "import signal\n",
    "import tiktoken\n",
    "from sklearn.metrics import classification_report, confusion_matrix, cohen_kappa_score\n",
    "from tqdm import tqdm"
   ]
  },
  {
   "cell_type": "markdown",
   "metadata": {},
   "source": [
    "### Reading the Oncology Data"
   ]
  },
  {
   "cell_type": "markdown",
   "metadata": {},
   "source": [
    "Get the CORAL data from the following link\n",
    "\n",
    "https://physionet.org/content/curated-oncology-reports/1.0/"
   ]
  },
  {
   "cell_type": "code",
   "execution_count": 3,
   "metadata": {},
   "outputs": [],
   "source": [
    "breast_cancer_path = os.path.join('physionet.org/files/curated-oncology-reports/1.0/coral', 'annotated', 'breastca')\n",
    "pancreatic_cancer_path = os.path.join('physionet.org/files/curated-oncology-reports/1.0/coral', 'annotated', 'pdac')"
   ]
  },
  {
   "cell_type": "code",
   "execution_count": 8,
   "metadata": {},
   "outputs": [],
   "source": [
    "pancreatic_cancer_reports = []\n",
    "for i in range(0, 20):\n",
    "    file_path = os.path.join(pancreatic_cancer_path, str(i) + '.txt')\n",
    "    with open(file_path, 'r') as file:\n",
    "        pancreatic_cancer_reports.append(file.read())"
   ]
  },
  {
   "cell_type": "code",
   "execution_count": 9,
   "metadata": {},
   "outputs": [],
   "source": [
    "breast_cancer_reports = []\n",
    "for i in range(20, 40):\n",
    "    file_path = os.path.join(breast_cancer_path, str(i) + '.txt')\n",
    "    with open(file_path, 'r') as file:\n",
    "        breast_cancer_reports.append(file.read())"
   ]
  },
  {
   "cell_type": "code",
   "execution_count": 16,
   "metadata": {},
   "outputs": [],
   "source": [
    "def retrieve_social_history(report):\n",
    "    social_history_start = report.lower().find('social history')\n",
    "    pos_ends = []\n",
    "    pos_ends.append(report.lower().find('family history'))\n",
    "    pos_ends.append(report.lower().find('physical exam'))\n",
    "    pos_ends.append(report.lower().find('medications'))\n",
    "    pos_ends.append(report.lower().find('hospital course'))\n",
    "    pos_ends.append(report.lower().find('prescriptions'))\n",
    "    pos_ends.append(report.lower().find('review of systems'))\n",
    "    pos_ends = [x for x in pos_ends if x > social_history_start]\n",
    "    pos_ends.append(social_history_start+500)\n",
    "    social_history_end = min(pos_ends)\n",
    "    social_history = report[social_history_start:social_history_end]    \n",
    "    return social_history"
   ]
  },
  {
   "cell_type": "code",
   "execution_count": 19,
   "metadata": {},
   "outputs": [],
   "source": [
    "pancreatic_cancer_soc_history = [retrieve_social_history(report) for report in pancreatic_cancer_reports]"
   ]
  },
  {
   "cell_type": "code",
   "execution_count": 23,
   "metadata": {},
   "outputs": [
    {
     "data": {
      "text/plain": [
       "[\"SOCIAL HISTORY:  He smoked about a half a pack of cigarettes per day for about 4 years, quitting in 2006. There is a prior history of alcohol abuse where he drank up to a pint of tequila day, but he has been drinking only socially more recently. He has a past history of heroin abuse, but has not used for several years.   He is accompanied by his mother ***** who works as a *****'***** ***** and his sister ***** who is an administrative *****.      PE:    Vitals:   Vitals: BP 131/90 | Pulse 64 | \",\n",
       " 'Social History     Socioeconomic History   \\x07 Marital status: Married     Spouse name: *****   \\x07 Number of children: None   \\x07 Years of education: None   \\x07 Highest education level: None   Occupational History   \\x07 None   Social Needs   \\x07 Financial resource strain: None   \\x07 Food insecurity:     Worry: None     Inability: None   \\x07 Transportation needs:     Medical: None     Non-medical: None   Tobacco Use   \\x07 Smoking status: Former Smoker   \\x07 Smokeless tobacco: Never Used   Substance and Sexual Activ',\n",
       " \"social history which was performed during a \\n previous encounter was re-examined and reviewed with the patient. There is nothing new to add at today's visit. For details, please refer to my original consultation note in this chart.      \",\n",
       " '',\n",
       " '',\n",
       " '',\n",
       " 'SOCIAL HISTORY:  Her first husband died at  *****. She is married to ***** and has been married to him for ***** ***** yrs. They have one child together. Each has a child from a prior relationship. Both are retired. She previously worked for ***** ***** a   *****  *****. She has not used alcohol since 2010 coincident with her diagnosis and treatment of hepatitis C. She is a former tobacco user and last smoked about 20 years ago.      PE:    Vitals: There were no vitals taken for this visit.   In',\n",
       " 'SOCIAL HISTORY  Married, husband recently diagnosed with \\n prostate cancer  Two adult children live in *****  Retired  Previous smoker, 10 cigarettes/day x 30 years, quit at age 49      ',\n",
       " 'Social History     Socioeconomic History   \\x07 Marital status: Married     Spouse name: Not on file   \\x07 Number of children: Not on file   \\x07 Years of education: Not on file   \\x07 Highest education level: Not on file   Social Needs   \\x07 Financial resource strain: Not on file   \\x07 Food insecurity - worry: Not on file   \\x07 Food insecurity - inability: Not on file   \\x07 Transportation needs - medical: Not on file   \\x07 Transportation needs - non-medical: Not on file   Occupational History   \\x07 Not on file   Toba',\n",
       " '',\n",
       " 'SOCIAL HISTORY  Social History     Socioeconomic \\n History   \\x07 Marital status: Married     Spouse name: Not on file   \\x07 Number of children: Not on file   \\x07 Years of education: Not on file   \\x07 Highest education level: Not on file   Occupational History   \\x07 Not on file   Tobacco Use   \\x07 Smoking status: Never Smoker   \\x07 Smokeless tobacco: Never Used   Substance and Sexual Activity   \\x07 Alcohol use: Never   \\x07 Drug use: Not on file   \\x07 Sexual activity: Not on file   Other Topics Concern   \\x07 Not on fil',\n",
       " '',\n",
       " 'SOCIAL HISTORY  Social History     Tobacco Use   \\x07 Smoking status: Former Smoker     Packs/day: 0.50     Years: 28.00     Pack years: 14.00     Types: Cigarettes     Start date: 1990     Quit date: 2008     Years since quitting: 14.8   \\x07 Smokeless tobacco: Never Used   Substance and Sexual Activity   \\x07 Alcohol use: Never   \\x07 Drug use: Never   \\x07 Sexual activity: Not Currently   Social History Narrative    Immigrated from ***** in 2021    Used to work in business            Objective      Vitals  ',\n",
       " 'SOCIAL HISTORY  Tobacco Use   \\x07 Smoking status: Never Smoker   \\x07 Smokeless tobacco: Never Used   Substance and Sexual Activity   \\x07 Alcohol use: Not Currently   \\x07 Drug use: Never     Lives with husband at home in *****; 3 children.        ECOG Performance Status: 2    ',\n",
       " 'Social History     Socioeconomic History   \\x07 Marital status: Married     Spouse name: *****   \\x07 Number of children: None   \\x07 Years of education: None   \\x07 Highest education level: None   Occupational History   \\x07 None   Social Needs   \\x07 Financial resource strain: None   \\x07 Food insecurity:     Worry: None     Inability: None   \\x07 Transportation needs:     Medical: None     Non-medical: None   Tobacco Use   \\x07 Smoking status: Never Smoker   \\x07 Smokeless tobacco: Never Used   Substance and Sexual Activi',\n",
       " '',\n",
       " '',\n",
       " 'SOCIAL HISTORY:  She lives with her sister currently. She has 2 sons. She is separated from her second husband. She used to teach *****. She has a history of alcohol abuse. She used chewing tobacco when she was younger for about 10 years. Most of her life, she was very active including skiing and competitive squash but she is now limited by arthritis.      PE:    Vitals: There were no vitals taken for this visit.   In general, she appears comfortable.      LABORATORY RESULTS:  Results for orders',\n",
       " 'SOCIAL HISTORY:  Used tobacco between the ages of 17-34 years. There is no history of alcohol abuse. She is retired. She previously worked for   ***** ***** ***** ***** ***** ***** *****.    She \\n is a widow and her husband died of colorectal cancer. She has 1 daughter ***** who lives in ***** *****     has a *****-year-old child.    PE:  Vitals: BP 132/85  | Pulse 76  | Temp 36.5 C (97.7 F) (Oral)  | Resp 18  | Ht 163.1 cm (5\\' 4.21\") Comment: April 2017 | Wt 45.4 kg (100 lb)  | SpO2 100%  | BMI',\n",
       " 'SOCIAL HISTORY  Married (husband), no children.  Occupational History   \\x07 Previously in *****, now  ***** *****   Tobacco Use   \\x07 Smoking status: Former Smoker     Packs/day: 0.00     Quit date: 1992     Years since quitting: 30.3   \\x07 Smokeless tobacco: Never Used   Substance and Sexual Activity   \\x07 Alcohol use: Yes     Alcohol/week: 5.0 - 8.0 standard drinks     Types: 5 - 8 Standard drinks or equivalent per week     Comment:     5-8/wk   \\x07 Drug use: Yes   \\x07 Sexual activity: Not on file       ']"
      ]
     },
     "execution_count": 23,
     "metadata": {},
     "output_type": "execute_result"
    }
   ],
   "source": [
    "pancreatic_cancer_soc_history"
   ]
  },
  {
   "cell_type": "code",
   "execution_count": 24,
   "metadata": {},
   "outputs": [],
   "source": [
    "pancreatic_cancer_soc_history = [soc_history for soc_history in pancreatic_cancer_soc_history if len(soc_history) > 0]"
   ]
  },
  {
   "cell_type": "code",
   "execution_count": 20,
   "metadata": {},
   "outputs": [],
   "source": [
    "breast_cancer_soc_history = [retrieve_social_history(report) for report in breast_cancer_reports]"
   ]
  },
  {
   "cell_type": "code",
   "execution_count": 22,
   "metadata": {},
   "outputs": [
    {
     "data": {
      "text/plain": [
       "['Social History     Social History   \\x07 Marital status: Married     Spouse name: N/A   \\x07 Number of children: N/A   \\x07 Years of education: N/A     Occupational History   \\x07 Not on file.     Social History Main Topics   \\x07 Smoking status: Never Smoker   \\x07 Smokeless tobacco: Never Used   \\x07 Alcohol use No   \\x07 Drug use: No   \\x07 Sexual activity: Not on file     Other Topics Concern   \\x07 Not on file     Social History Narrative    Married; husband still alive. Lives with her daughter.  Originally from *****. ',\n",
       " 'SOCIAL HISTORY: She is divorced and lives with her 42-year-old son who  is unemployed.  She worked with the military.  She does not drink  alcohol.  She smoked cigarettes for 75-pack-years stopping more than 12  months ago.    ',\n",
       " 'Social History:  Social History           Social History   \\x07 Marital status: Married     Spouse name: N/A   \\x07 Number of children: N/A   \\x07 Years of education: N/A           Occupational History   \\x07 ***** ***** ***** *****     *****         Social History Main Topics   \\x07 Smoking status: Never Smoker   \\x07 Smokeless tobacco: None   \\x07 Alcohol use No   \\x07 Drug use: No   \\x07 Sexual activity: No          Other Topics Concern   \\x07 None         Social History Narrative    Recently divorced    Raised step son f',\n",
       " 'SOCIAL HISTORY  Past Medical History:   Diagnosis Date   \\x07 Cataract    \\x07 Elevated CA-125    \\x07 GERD (gastroesophageal reflux disease)    \\x07 Kidney stones    \\x07 Metastatic papillary carcinoma to lymph node     involving left pelvic lymph nodes   \\x07 NSVD (normal spontaneous vaginal delivery)     x2   \\x07 Ovarian cancer 1998    recurrent, stage IIIC; with platinum-sensitive disease       ',\n",
       " 'Social History     Social History   \\x07 Marital status: Married     Spouse name: N/A   \\x07 Number of children: N/A   \\x07 Years of education: N/A     Occupational History   \\x07 Not on file.     Social History Main Topics   \\x07 Smoking status: Never Smoker   \\x07 Smokeless tobacco: Never Used   \\x07 Alcohol use No   \\x07 Drug \\n use: No   \\x07 Sexual activity: Yes     Other Topics Concern   \\x07 Not on file     Social History Narrative    The patient underwent menarche at 12 years of age.  She took OCP for < 1 year.  She i',\n",
       " 'SOCIAL HISTORY:  Social History     Social History Narrative    Lives in ***** with husband and son who is 25. 1 other estranged son in *****,  1 son in *****, 2 daughters live in *****    She moved from ***** 1 year ago    Husband was living in ***** for 33 years before coming to ***** 1 year ago with wife    She does not work, husband works cleaning buildings           ',\n",
       " 'SOCIAL HISTORY  Past Medical History:   Diagnosis Date   \\x07 Asthma     mild, rarely uses her inhaler.     \\x07 Bipolar disorder (HCC)    \\x07 Breast cancer (HCC)    \\x07 Depression    \\x07 DVT (deep venous thrombosis) (HCC)     L subclavian   \\x07 Hepatitis C     treated *****-*****.   \\x07 History of chemotherapy    \\x07 Hypertension     not on any meds at the moment, bp controlled.   \\x07 Personal history of irradiation, presenting hazards to health      ',\n",
       " 'Social History:  She lives in ***** ***** in ***** *****, although is currently living in ***** with her daughter and grandchildren.  Works as an elementary school counselor.  Former smoker, smoked for a total \\n of 10 years, quit decades ago.         Family History   Problem Relation Age of Onset   \\x07 Diabetes Father    \\x07 Breast cancer Paternal Grandmother    \\x07 Anesth problems Neg Hx    \\x07 Bleeding disorder Neg Hx    \\x07 PONV Neg Hx         ',\n",
       " 'Social History     Socioeconomic History   \\x07 Marital status: Unknown/Declined     Spouse name: Not on file   \\x07 Number of children: Not on file   \\x07 Years of education: Not on file   \\x07 Highest education level: Not on file   Occupational History   \\x07 Not on file   Social Needs   \\x07 Financial resource strain: Not on file   \\x07 Food insecurity:     Worry: Not on file     Inability: Not on file   \\x07 Transportation needs:     Medical: Not on file     Non-medical: Not on file   Tobacco Use   \\x07 Smoking status',\n",
       " 'Social History     Social History Narrative    Single, lesbian without a partner    Marketing director for a ***** ***** ***** company    G0P0    Mother splits her time between ***** and *****    Sister also lives in ***** but has been staying with ***** since her diagnosis with her cat           Current Outpatient ',\n",
       " '',\n",
       " 'Social History     Social History   \\x07 Marital status: Married     Spouse name: N/A   \\x07 Number of children: N/A   \\x07 Years of education: N/A     Occupational History   \\x07 Not on file.     Social History Main Topics   \\x07 Smoking status: Never Smoker   \\x07 Smokeless tobacco: Never Used   \\x07 Alcohol use 1.2 oz/week     2 Glasses of wine per week      Comment:      2-3 gl wine per week   \\x07 Drug use: No   \\x07 Sexual activity: Not on file     Other Topics Concern   \\x07 Not on file     Social History Narrative   ',\n",
       " 'Social History     Social History Narrative    She lives with her husband, child and extended family in ***** *****. She work in tech.       History   Smoking Status   \\x07 Never Smoker   Smokeless Tobacco   \\x07 Never Used       History   Alcohol use Not on file       ',\n",
       " 'Social History     Patient does not qualify to have social determinant information on file (likely too young).   Social History Narrative    Travelled for work for ***** as a ***** and ***** *****, then came back to ***** with the COVID pandemic    Had been planning to go to ***** school in *****    Now plans to complete her undergraduate school in the ***** *****    Also has worked as a ***** ***** ***** and *****  *****    Lives with her aunt and uncle in ***** ***** ***** right now    OCPs fo',\n",
       " 'Social History     Social History   \\x07 Marital status: Single     Spouse name: N/A   \\x07 Number of children: N/A   \\x07 Years of education: N/A     Occupational History   \\x07 ***** *****      Social History Main Topics   \\x07 Smoking status: Never Smoker   \\x07 Smokeless tobacco: Not on file   \\x07 Alcohol use 0.6 oz/week     1 Standard drinks or equivalent per week      Comment: 1 per month   \\x07 Drug use: No   \\x07 Sexual activity: Not on file     Other Topics Concern   \\x07 Not on file     Social History Narrative   ',\n",
       " 'SOCIAL HISTORY:  She has been divorced for many years.  She works full  time as a ***** for ***** ***** and ***** ***** in  administration.  She exercises a little bit.  She does not smoke  cigarettes or drink alcohol.    ',\n",
       " 'Social History         Social History Narrative    Divorced, lives alone    G2P2, 36 and 25 year old sons    Works as a ***** ***** in the ***** *****    LMP age 42 at the time of her divorce    No HRT         Current Outpatient ',\n",
       " 'Social History     Social History Narrative    Manager of jewelry store in *****       History   Smoking Status   \\x07 Former Smoker   \\x07 Packs/day: 0.20   \\x07 Years: 10.00   \\x07 Start date: 03/07/2002   \\x07 Quit date: 08/05/2012   Smokeless Tobacco   \\x07 Never Used       History   Alcohol Use No     Comment: Previously drank 4 a week       Family History   Problem Relation Name Age of Onset   \\x07 Breast cancer Mother     \\x07 Breast cancer Other     \\x07 Breast cancer Other           Review \\n of Systems  Answers f',\n",
       " '',\n",
       " 'SOCIAL HISTORY:    Social History     Socioeconomic History   \\x07 Marital status: Married     Spouse name: *****   \\x07 Number of children: None   \\x07 Years of education: None   \\x07 Highest education level: None   Occupational History   \\x07 None   Social Needs   \\x07 Financial resource strain: None   \\x07 Food insecurity:     Worry: None     Inability: None   \\x07 Transportation needs:     Medical: None     Non-medical: None   Tobacco Use   \\x07 Smoking status: Never Smoker   Substance and Sexual Activity   \\x07 Alcohol ']"
      ]
     },
     "execution_count": 22,
     "metadata": {},
     "output_type": "execute_result"
    }
   ],
   "source": [
    "breast_cancer_soc_history"
   ]
  },
  {
   "cell_type": "code",
   "execution_count": 26,
   "metadata": {},
   "outputs": [],
   "source": [
    "breast_cancer_soc_history = [soc_history for soc_history in breast_cancer_soc_history if len(soc_history) > 0]"
   ]
  },
  {
   "cell_type": "markdown",
   "metadata": {},
   "source": [
    "### Reading the MIMIC data to extract the examples"
   ]
  },
  {
   "cell_type": "code",
   "execution_count": 40,
   "metadata": {},
   "outputs": [],
   "source": [
    "UNIQUE_ID_COLUMN_NAME = \"ROW_ID\"\n",
    "UNIQUE_TEXT_COLUMN_NAME = \"TEXT\"\n",
    "UNIQUE_LABEL_COLUMN_NAMES = ['sdoh_community_present','sdoh_economics','behavior_tobacco']"
   ]
  },
  {
   "cell_type": "code",
   "execution_count": 41,
   "metadata": {},
   "outputs": [],
   "source": [
    "def retrieve_social_history(df):\n",
    "    replace_texts = []\n",
    "    for row_id in df[UNIQUE_ID_COLUMN_NAME]:\n",
    "        patient = df[df[UNIQUE_ID_COLUMN_NAME] == row_id][UNIQUE_TEXT_COLUMN_NAME].iloc[0]\n",
    "        social_history_start = patient.lower().find('social history:')\n",
    "        pos_ends = []\n",
    "        pos_ends.append(patient.lower().find('family history:'))\n",
    "        pos_ends.append(patient.lower().find('physical exam'))\n",
    "        pos_ends.append(patient.lower().find('medications:'))\n",
    "        pos_ends.append(patient.lower().find('hospital course:'))\n",
    "        pos_ends.append(patient.lower().find('review of systems:'))\n",
    "        pos_ends = [x for x in pos_ends if x > social_history_start]\n",
    "        pos_ends.append(social_history_start+500)\n",
    "        social_history_end = min(pos_ends)\n",
    "        replace_texts.append((row_id,patient[social_history_start:social_history_end]))\n",
    "    texts = pd.DataFrame(replace_texts,columns =[UNIQUE_ID_COLUMN_NAME,UNIQUE_TEXT_COLUMN_NAME])\n",
    "    \n",
    "    return texts"
   ]
  },
  {
   "cell_type": "code",
   "execution_count": 42,
   "metadata": {},
   "outputs": [],
   "source": [
    "#Paths to MIMIC_CSVs\n",
    "MIMIC_ADMISSION_CSV = \"ADMISSIONS.csv\" #Fill in path/to/file with the path to your MIMIC-III folder\n",
    "MIMIC_NOTEEVENTS_CSV = \"NOTEEVENTS.csv\" #Fill in path/to/file with the path to your MIMIC-III folder\n",
    "MIMIC_SBDH = \"MIMIC-SBDH.csv\" #Fill in path/to/file with the path to your MIMIC-SBDH folder"
   ]
  },
  {
   "cell_type": "code",
   "execution_count": 43,
   "metadata": {},
   "outputs": [
    {
     "name": "stderr",
     "output_type": "stream",
     "text": [
      "/tmp/ipykernel_4101363/4020065567.py:5: DtypeWarning: Columns (4,5) have mixed types. Specify dtype option on import or set low_memory=False.\n",
      "  notes_df = pd.read_csv(MIMIC_NOTEEVENTS_CSV)\n"
     ]
    }
   ],
   "source": [
    "#Loading DataFrames for Annotated and Unnanotated MIMIC Notes\n",
    "\n",
    "df = pd.read_csv(MIMIC_ADMISSION_CSV)\n",
    "newborn_list = df[df[\"ADMISSION_TYPE\"] == \"NEWBORN\"].SUBJECT_ID.to_list()\n",
    "notes_df = pd.read_csv(MIMIC_NOTEEVENTS_CSV)\n",
    "discharge_df = notes_df[notes_df['CATEGORY'] == 'Discharge summary']\n",
    "non_neonatal = discharge_df[~discharge_df['SUBJECT_ID'].isin(newborn_list)]\n",
    "sbdh_data = pd.read_csv(open(MIMIC_SBDH, 'r+', encoding='UTF-8'),encoding='UTF-8', on_bad_lines='warn')\n",
    "sbdh_data = sbdh_data.rename(columns={'row_id':UNIQUE_ID_COLUMN_NAME})\n",
    "annotated_list = sbdh_data[UNIQUE_ID_COLUMN_NAME].tolist()\n",
    "annotated_notes = discharge_df[discharge_df[UNIQUE_ID_COLUMN_NAME].isin(annotated_list)]\n",
    "annotated_subjects = discharge_df[discharge_df[UNIQUE_ID_COLUMN_NAME].isin(annotated_list)].SUBJECT_ID.to_list()\n",
    "\n",
    "no_soc_his = []\n",
    "for index, row in non_neonatal.iterrows():\n",
    "    if 'social history:' not in row[UNIQUE_TEXT_COLUMN_NAME].lower():\n",
    "        no_soc_his.append(row[UNIQUE_ID_COLUMN_NAME])\n",
    "\n",
    "final_sdoh_list = non_neonatal[~non_neonatal[UNIQUE_ID_COLUMN_NAME].isin(no_soc_his)]\n",
    "unnanotated_notes = final_sdoh_list[~final_sdoh_list[UNIQUE_ID_COLUMN_NAME].isin(annotated_list)]\n",
    "\n",
    "annotated_sh = retrieve_social_history(annotated_notes)\n",
    "annotated_sh = pd.merge(annotated_sh,sbdh_data[[UNIQUE_ID_COLUMN_NAME] + UNIQUE_LABEL_COLUMN_NAMES],on=UNIQUE_ID_COLUMN_NAME, how='left')\n",
    "unannotated_sh = retrieve_social_history(unnanotated_notes)\n",
    "\n",
    "df = newborn_list = notes_df = discharge_df = non_neonatal = annotated_list = annotated_subjects = no_soc_his = final_sdoh_list = unnanotated = sbdh_data = None"
   ]
  },
  {
   "cell_type": "code",
   "execution_count": 44,
   "metadata": {},
   "outputs": [],
   "source": [
    "economics_binary = [1 if x == 2 else 0 for x in annotated_sh.sdoh_economics.to_list()]\n",
    "tobacco_binary = [1 if x == 1 or x == 2 else 0 for x in annotated_sh.behavior_tobacco.to_list()]\n",
    "annotated_sh = annotated_sh.drop(columns=['sdoh_economics','behavior_tobacco'])\n",
    "annotated_sh['sdoh_economics'] = economics_binary\n",
    "annotated_sh['behavior_tobacco'] = tobacco_binary"
   ]
  },
  {
   "cell_type": "markdown",
   "metadata": {},
   "source": [
    "### Extracting the SDoH using AnnotateGPT"
   ]
  },
  {
   "cell_type": "code",
   "execution_count": 197,
   "metadata": {},
   "outputs": [],
   "source": [
    "# Choose a MIMIC task. Only one must be true, two must be false.\n",
    "# Default: community\n",
    "community = False\n",
    "economics = False\n",
    "tobacco = True\n",
    "\n",
    "assert community + economics + tobacco == 1, \"One and only one must be True, the other two must be False\""
   ]
  },
  {
   "cell_type": "code",
   "execution_count": 198,
   "metadata": {},
   "outputs": [],
   "source": [
    "if community:\n",
    "    task = 'community'\n",
    "    label_column = \"sdoh_community_present\"\n",
    "elif economics:\n",
    "    task = 'economics'\n",
    "    label_column = \"sdoh_economics\"\n",
    "else:\n",
    "    task = 'tobacco'\n",
    "    label_column = \"behavior_tobacco\""
   ]
  },
  {
   "cell_type": "code",
   "execution_count": 199,
   "metadata": {},
   "outputs": [],
   "source": [
    "task_prompts = pickle.load(open('MIMIC_TASK_PROMPTS.pkl','rb'))\n",
    "\n",
    "base_system_message = task_prompts[task]['instructions']\n",
    "system_message = f\"{base_system_message.strip()}\"\n",
    "query_message = task_prompts[task]['query']\n",
    "\n",
    "easy_example_pos = annotated_sh[annotated_sh[UNIQUE_ID_COLUMN_NAME] == task_prompts[task]['examples']['easy_example_pos']].iloc[0].TEXT.replace('\\n', ' ').strip()\n",
    "easy_answer_pos = task_prompts[task]['examples']['easy_answer_pos']\n",
    "easy_answer_pos_explained = task_prompts[task]['examples']['easy_answer_pos_explained']\n",
    "easy_example_neg = annotated_sh[annotated_sh[UNIQUE_ID_COLUMN_NAME] == task_prompts[task]['examples']['easy_example_neg']].iloc[0].TEXT.replace('\\n', ' ').strip()\n",
    "easy_answer_neg = task_prompts[task]['examples']['easy_answer_neg']\n",
    "easy_answer_neg_explained = task_prompts[task]['examples']['easy_answer_neg_explained']\n",
    "\n",
    "hard_example_pos = annotated_sh[annotated_sh[UNIQUE_ID_COLUMN_NAME] == task_prompts[task]['examples']['hard_example_pos']].iloc[0].TEXT.replace('\\n', ' ').strip()\n",
    "hard_answer_pos = task_prompts[task]['examples']['hard_answer_pos']\n",
    "hard_answer_pos_explained = task_prompts[task]['examples']['hard_answer_pos_explained']\n",
    "hard_example_neg = annotated_sh[annotated_sh[UNIQUE_ID_COLUMN_NAME] == task_prompts[task]['examples']['hard_example_neg']].iloc[0].TEXT.replace('\\n', ' ').strip()\n",
    "hard_answer_neg = task_prompts[task]['examples']['hard_answer_neg']\n",
    "hard_answer_neg_explained = task_prompts[task]['examples']['hard_answer_neg_explained']\n",
    "\n",
    "example_ids = [task_prompts[task]['examples']['easy_example_pos'],task_prompts[task]['examples']['easy_example_neg'],task_prompts[task]['examples']['hard_example_pos'],task_prompts[task]['examples']['hard_example_neg']]"
   ]
  },
  {
   "cell_type": "code",
   "execution_count": 2,
   "metadata": {},
   "outputs": [],
   "source": []
  },
  {
   "cell_type": "code",
   "execution_count": 3,
   "metadata": {},
   "outputs": [
    {
     "data": {
      "text/plain": [
       "{'API_KEY': 'c8ec02536ea94c9faafd4ce70ccfd244',\n",
       " 'API_VERSION': '2024-02-01',\n",
       " 'AZURE_ENDPOINT': 'https://mimic-openai.openai.azure.com/'}"
      ]
     },
     "execution_count": 3,
     "metadata": {},
     "output_type": "execute_result"
    }
   ],
   "source": []
  },
  {
   "cell_type": "code",
   "execution_count": 200,
   "metadata": {},
   "outputs": [],
   "source": [
    "with open('azure_credentials.json', 'r') as file:\n",
    "    azure_data = json.load(file)\n",
    "    api_key = azure_data['API_KEY']\n",
    "    api_version = azure_data['API_VERSION']\n",
    "    azure_endpoint = azure_data['AZURE_ENDPOINT']\n",
    "    azure_deployment_name = azure_data['AZURE_DEPLOYMENT_NAME']\n",
    "\n",
    "client = AzureOpenAI(\n",
    "    api_key=api_key,\n",
    "    api_version=api_version,\n",
    "    azure_endpoint = azure_endpoint\n",
    "    )\n",
    "\n",
    "deployment_name=azure_deployment_name #This will correspond to the custom name you chose for your deployment when you deployed a model. Use a gpt-35-turbo-instruct deployment.\n",
    "\n",
    "# Defining a function to create the prompt from the instruction system message, the few-shot examples, and the current query\n",
    "# The function assumes 'examples' is a list of few-shot examples in dictionaries with 'context', 'query' and 'answer' keys\n",
    "# Example: examples = [{\"context\": \"Lives with wife, no tobacco, no alcohol, no drugs\",\n",
    "# \"query\": \"Does the social history present tobacco use?\", \"answer\": \"No.\"}]\n",
    "# The function assumes 'query' is a dictionary containing the current query GPT is expected to answer with 'context' and 'query' keys.\n",
    "# Example: query = [{\"context\": \"Lives alone, history of 1 ppd, no alcohol use, no drug use\", \n",
    "# \"query\": \"Does the social history present tobacco use?\"}]\n",
    "def create_prompt(system_message, examples, query):\n",
    "    user_message = \"\"\n",
    "    if examples != None:\n",
    "        for example in examples:\n",
    "            user_message += f\"\\nCONTEXT:\\n{example['context']}\\n\"\n",
    "            user_message += f\"\\nQUERY:\\n{example['query']}\\n\"\n",
    "            user_message += f\"\\nANSWER:\\n{example['answer']}\\n\"\n",
    "    user_message += f\"\\nCONTEXT:\\n{query['context']}\\n\"\n",
    "    user_message += f\"\\nQUERY:\\n{query['query']}\\n\"\n",
    "    user_message += f\"\\nANSWER:\\n\"\n",
    "    \n",
    "    formatted_message = [\n",
    "        {\"role\": \"system\", \"content\": system_message},\n",
    "        {\"role\": \"user\", \"content\": user_message}\n",
    "    ]\n",
    "    \n",
    "    return formatted_message\n",
    "\n",
    "# This function sends the prompt to the GPT model\n",
    "def send_message(message, model_name, max_response_tokens=50):\n",
    "    response = client.chat.completions.create(\n",
    "        model=model_name,\n",
    "        messages=message,\n",
    "        temperature=0.7,\n",
    "        max_tokens=max_response_tokens,\n",
    "    )\n",
    "    return response.choices[0].message.content.strip()"
   ]
  },
  {
   "cell_type": "code",
   "execution_count": 201,
   "metadata": {},
   "outputs": [],
   "source": [
    "def prepare_examples(shots, example_hard, example_explained):\n",
    "    if shots:\n",
    "        if example_hard:\n",
    "            context_messages = [hard_example_pos, hard_example_neg]\n",
    "            if example_explained:\n",
    "                answer_messages = [hard_answer_pos_explained, hard_answer_neg_explained]\n",
    "            else:\n",
    "                answer_messages = [hard_answer_pos, hard_answer_neg]\n",
    "        else:\n",
    "            context_messages = [easy_example_pos, easy_example_neg]\n",
    "            if example_explained:\n",
    "                answer_messages = [easy_answer_pos_explained, easy_answer_neg_explained]\n",
    "            else:\n",
    "                answer_messages = [easy_answer_pos, easy_answer_neg]  \n",
    "\n",
    "        examples = [{\"context\": context_messages[0], \"query\": query_message, \"answer\": answer_messages[0]},{\"context\": context_messages[1], \"query\": query_message, \"answer\": answer_messages[1]}]\n",
    "\n",
    "    else:\n",
    "        examples = None\n",
    "    \n",
    "    return examples"
   ]
  },
  {
   "cell_type": "code",
   "execution_count": 202,
   "metadata": {},
   "outputs": [],
   "source": [
    "shots = True\n",
    "example_hard = [False,True]\n",
    "example_explained = [False,True]\n",
    "arr1 = np.array([[False, False, False]])\n",
    "arr2 = np.array(np.meshgrid(shots, example_hard, example_explained)).T.reshape(-1,3)\n",
    "all_annotation_types = np.concatenate((arr1,arr2))\n",
    "all_annotation_names = ['ZeroShot','TwoShot-E','TwoShot-H','TwoShot-E+Ex','TwoShot-H+Ex']"
   ]
  },
  {
   "cell_type": "code",
   "execution_count": 203,
   "metadata": {},
   "outputs": [],
   "source": [
    "idx = 2\n",
    "examples = prepare_examples(all_annotation_types[idx][0], all_annotation_types[idx][1], all_annotation_types[idx][2])"
   ]
  },
  {
   "cell_type": "code",
   "execution_count": 204,
   "metadata": {},
   "outputs": [],
   "source": [
    "# This block sends the test set one by one and gathers responses from GPT\n",
    "# I tried to paralelize it, but it kept throwing timeout errors from the GPT side, not sure what I was doing wrong\n",
    "# you can try, if you're up for it. its linear right now and that doesn't even get close to the rate limit\n",
    "\n",
    "def gpt_annotation(social_history, examples):\n",
    "    responses = []\n",
    "\n",
    "    for soc_hist in tqdm(social_history):\n",
    "\n",
    "        context_query = soc_hist\n",
    "        context_query = context_query.strip()\n",
    "        \n",
    "        query = {\"context\": context_query, \"query\": query_message}\n",
    "        \n",
    "        prompt = create_prompt(system_message, examples, query)\n",
    "        \n",
    "        for attempt in range(4):\n",
    "            try:\n",
    "                max_response_tokens = 50\n",
    "\n",
    "                response = send_message(prompt, deployment_name, max_response_tokens)\n",
    "                \n",
    "                if 'Yes' in response:\n",
    "                    responses.append(1)\n",
    "                else:\n",
    "                    responses.append(0)\n",
    "            except Exception as error:\n",
    "                print(\"An exception occurred:\", error)\n",
    "                continue\n",
    "            break    \n",
    "    return responses"
   ]
  },
  {
   "cell_type": "code",
   "execution_count": 205,
   "metadata": {},
   "outputs": [
    {
     "name": "stderr",
     "output_type": "stream",
     "text": [
      "100%|██████████| 13/13 [02:17<00:00, 10.59s/it]\n"
     ]
    }
   ],
   "source": [
    "pancreatic_response = gpt_annotation(pancreatic_cancer_soc_history, examples)"
   ]
  },
  {
   "cell_type": "code",
   "execution_count": 207,
   "metadata": {},
   "outputs": [],
   "source": [
    "file_name = \"pancreatic_\" + task + \".pkl\"\n",
    "file_path = os.path.join(\"AnnotateGPT_Coral\", file_name)\n",
    "with open(file_path, 'wb') as handle:\n",
    "    pickle.dump(pancreatic_response, handle)"
   ]
  },
  {
   "cell_type": "code",
   "execution_count": 208,
   "metadata": {},
   "outputs": [
    {
     "name": "stderr",
     "output_type": "stream",
     "text": [
      "100%|██████████| 18/18 [03:07<00:00, 10.42s/it]\n"
     ]
    }
   ],
   "source": [
    "breast_response = gpt_annotation(breast_cancer_soc_history, examples)"
   ]
  },
  {
   "cell_type": "code",
   "execution_count": 210,
   "metadata": {},
   "outputs": [],
   "source": [
    "file_name = \"breast_\" + task + \".pkl\"\n",
    "file_path = os.path.join(\"AnnotateGPT_Coral\", file_name)\n",
    "with open(file_path, 'wb') as handle:\n",
    "    pickle.dump(breast_response, handle)"
   ]
  },
  {
   "cell_type": "markdown",
   "metadata": {},
   "source": [
    "#### Reading the pickle files "
   ]
  },
  {
   "cell_type": "code",
   "execution_count": 263,
   "metadata": {},
   "outputs": [],
   "source": [
    "with open('pancreatic_community.pkl', 'rb') as handle:\n",
    "    pancreatic_community = pickle.load(handle)\n",
    "    \n",
    "with open('pancreatic_economics.pkl', 'rb') as handle:\n",
    "    pancreatic_economics = pickle.load(handle)\n",
    "    \n",
    "with open('pancreatic_tobacco.pkl', 'rb') as handle:\n",
    "    pancreatic_tobacco = pickle.load(handle)"
   ]
  },
  {
   "cell_type": "code",
   "execution_count": 264,
   "metadata": {},
   "outputs": [],
   "source": [
    "pancreatic_community = [1 if response.find('Yes')!=-1 else 0 for response in pancreatic_community]\n",
    "pancreatic_economics = [1 if response.find('Yes')!=-1 else 0 for response in pancreatic_economics]\n",
    "pancreatic_tobacco = [1 if response.find('Yes')!=-1 else 0 for response in pancreatic_tobacco]"
   ]
  },
  {
   "cell_type": "code",
   "execution_count": 265,
   "metadata": {},
   "outputs": [],
   "source": [
    "pancreatic_df = pd.DataFrame({\"TEXT\": pancreatic_cancer_soc_history,\n",
    "                              \"community_present\": pancreatic_community,\n",
    "                              \"economics\": pancreatic_economics,\n",
    "                              \"tobacco\": pancreatic_tobacco})"
   ]
  },
  {
   "cell_type": "code",
   "execution_count": 266,
   "metadata": {},
   "outputs": [
    {
     "data": {
      "text/html": [
       "<div>\n",
       "<style scoped>\n",
       "    .dataframe tbody tr th:only-of-type {\n",
       "        vertical-align: middle;\n",
       "    }\n",
       "\n",
       "    .dataframe tbody tr th {\n",
       "        vertical-align: top;\n",
       "    }\n",
       "\n",
       "    .dataframe thead th {\n",
       "        text-align: right;\n",
       "    }\n",
       "</style>\n",
       "<table border=\"1\" class=\"dataframe\">\n",
       "  <thead>\n",
       "    <tr style=\"text-align: right;\">\n",
       "      <th></th>\n",
       "      <th>TEXT</th>\n",
       "      <th>community_present</th>\n",
       "      <th>economics</th>\n",
       "      <th>tobacco</th>\n",
       "    </tr>\n",
       "  </thead>\n",
       "  <tbody>\n",
       "    <tr>\n",
       "      <th>0</th>\n",
       "      <td>SOCIAL HISTORY:  He smoked about a half a pack...</td>\n",
       "      <td>1</td>\n",
       "      <td>1</td>\n",
       "      <td>1</td>\n",
       "    </tr>\n",
       "    <tr>\n",
       "      <th>1</th>\n",
       "      <td>Social History     Socioeconomic History   \u0007 M...</td>\n",
       "      <td>1</td>\n",
       "      <td>1</td>\n",
       "      <td>1</td>\n",
       "    </tr>\n",
       "    <tr>\n",
       "      <th>2</th>\n",
       "      <td>social history which was performed during a \\n...</td>\n",
       "      <td>0</td>\n",
       "      <td>0</td>\n",
       "      <td>0</td>\n",
       "    </tr>\n",
       "    <tr>\n",
       "      <th>3</th>\n",
       "      <td>SOCIAL HISTORY:  Her first husband died at  **...</td>\n",
       "      <td>1</td>\n",
       "      <td>1</td>\n",
       "      <td>1</td>\n",
       "    </tr>\n",
       "    <tr>\n",
       "      <th>4</th>\n",
       "      <td>SOCIAL HISTORY  Married, husband recently diag...</td>\n",
       "      <td>1</td>\n",
       "      <td>1</td>\n",
       "      <td>1</td>\n",
       "    </tr>\n",
       "    <tr>\n",
       "      <th>5</th>\n",
       "      <td>Social History     Socioeconomic History   \u0007 M...</td>\n",
       "      <td>0</td>\n",
       "      <td>1</td>\n",
       "      <td>0</td>\n",
       "    </tr>\n",
       "    <tr>\n",
       "      <th>6</th>\n",
       "      <td>SOCIAL HISTORY  Social History     Socioeconom...</td>\n",
       "      <td>0</td>\n",
       "      <td>0</td>\n",
       "      <td>0</td>\n",
       "    </tr>\n",
       "    <tr>\n",
       "      <th>7</th>\n",
       "      <td>SOCIAL HISTORY  Social History     Tobacco Use...</td>\n",
       "      <td>0</td>\n",
       "      <td>1</td>\n",
       "      <td>1</td>\n",
       "    </tr>\n",
       "    <tr>\n",
       "      <th>8</th>\n",
       "      <td>SOCIAL HISTORY  Tobacco Use   \u0007 Smoking status...</td>\n",
       "      <td>1</td>\n",
       "      <td>0</td>\n",
       "      <td>0</td>\n",
       "    </tr>\n",
       "    <tr>\n",
       "      <th>9</th>\n",
       "      <td>Social History     Socioeconomic History   \u0007 M...</td>\n",
       "      <td>1</td>\n",
       "      <td>1</td>\n",
       "      <td>0</td>\n",
       "    </tr>\n",
       "    <tr>\n",
       "      <th>10</th>\n",
       "      <td>SOCIAL HISTORY:  She lives with her sister cur...</td>\n",
       "      <td>1</td>\n",
       "      <td>0</td>\n",
       "      <td>1</td>\n",
       "    </tr>\n",
       "    <tr>\n",
       "      <th>11</th>\n",
       "      <td>SOCIAL HISTORY:  Used tobacco between the ages...</td>\n",
       "      <td>1</td>\n",
       "      <td>1</td>\n",
       "      <td>1</td>\n",
       "    </tr>\n",
       "    <tr>\n",
       "      <th>12</th>\n",
       "      <td>SOCIAL HISTORY  Married (husband), no children...</td>\n",
       "      <td>1</td>\n",
       "      <td>0</td>\n",
       "      <td>1</td>\n",
       "    </tr>\n",
       "  </tbody>\n",
       "</table>\n",
       "</div>"
      ],
      "text/plain": [
       "                                                 TEXT  community_present  \\\n",
       "0   SOCIAL HISTORY:  He smoked about a half a pack...                  1   \n",
       "1   Social History     Socioeconomic History   \u0007 M...                  1   \n",
       "2   social history which was performed during a \\n...                  0   \n",
       "3   SOCIAL HISTORY:  Her first husband died at  **...                  1   \n",
       "4   SOCIAL HISTORY  Married, husband recently diag...                  1   \n",
       "5   Social History     Socioeconomic History   \u0007 M...                  0   \n",
       "6   SOCIAL HISTORY  Social History     Socioeconom...                  0   \n",
       "7   SOCIAL HISTORY  Social History     Tobacco Use...                  0   \n",
       "8   SOCIAL HISTORY  Tobacco Use   \u0007 Smoking status...                  1   \n",
       "9   Social History     Socioeconomic History   \u0007 M...                  1   \n",
       "10  SOCIAL HISTORY:  She lives with her sister cur...                  1   \n",
       "11  SOCIAL HISTORY:  Used tobacco between the ages...                  1   \n",
       "12  SOCIAL HISTORY  Married (husband), no children...                  1   \n",
       "\n",
       "    economics  tobacco  \n",
       "0           1        1  \n",
       "1           1        1  \n",
       "2           0        0  \n",
       "3           1        1  \n",
       "4           1        1  \n",
       "5           1        0  \n",
       "6           0        0  \n",
       "7           1        1  \n",
       "8           0        0  \n",
       "9           1        0  \n",
       "10          0        1  \n",
       "11          1        1  \n",
       "12          0        1  "
      ]
     },
     "execution_count": 266,
     "metadata": {},
     "output_type": "execute_result"
    }
   ],
   "source": [
    "pancreatic_df"
   ]
  },
  {
   "cell_type": "code",
   "execution_count": 267,
   "metadata": {},
   "outputs": [],
   "source": [
    "with open('breast_community.pkl', 'rb') as handle:\n",
    "    breast_community = pickle.load(handle)\n",
    "    \n",
    "with open('breast_economics.pkl', 'rb') as handle:\n",
    "    breast_economics = pickle.load(handle)\n",
    "    \n",
    "with open('breast_tobacco.pkl', 'rb') as handle:\n",
    "    breast_tobacco = pickle.load(handle)"
   ]
  },
  {
   "cell_type": "code",
   "execution_count": 268,
   "metadata": {},
   "outputs": [],
   "source": [
    "breast_community = [1 if response.find('Yes')!=-1 else 0 for response in breast_community]\n",
    "breast_economics = [1 if response.find('Yes')!=-1 else 0 for response in breast_economics]\n",
    "breast_tobacco = [1 if response.find('Yes')!=-1 else 0 for response in breast_tobacco]"
   ]
  },
  {
   "cell_type": "code",
   "execution_count": 269,
   "metadata": {},
   "outputs": [],
   "source": [
    "breast_df = pd.DataFrame({\"TEXT\": breast_cancer_soc_history,\n",
    "                              \"community_present\": breast_community,\n",
    "                              \"economics\": breast_economics,\n",
    "                              \"tobacco\": breast_tobacco})"
   ]
  },
  {
   "cell_type": "code",
   "execution_count": 270,
   "metadata": {},
   "outputs": [
    {
     "data": {
      "text/html": [
       "<div>\n",
       "<style scoped>\n",
       "    .dataframe tbody tr th:only-of-type {\n",
       "        vertical-align: middle;\n",
       "    }\n",
       "\n",
       "    .dataframe tbody tr th {\n",
       "        vertical-align: top;\n",
       "    }\n",
       "\n",
       "    .dataframe thead th {\n",
       "        text-align: right;\n",
       "    }\n",
       "</style>\n",
       "<table border=\"1\" class=\"dataframe\">\n",
       "  <thead>\n",
       "    <tr style=\"text-align: right;\">\n",
       "      <th></th>\n",
       "      <th>TEXT</th>\n",
       "      <th>community_present</th>\n",
       "      <th>economics</th>\n",
       "      <th>tobacco</th>\n",
       "    </tr>\n",
       "  </thead>\n",
       "  <tbody>\n",
       "    <tr>\n",
       "      <th>0</th>\n",
       "      <td>Social History     Social History   \u0007 Marital ...</td>\n",
       "      <td>1</td>\n",
       "      <td>0</td>\n",
       "      <td>0</td>\n",
       "    </tr>\n",
       "    <tr>\n",
       "      <th>1</th>\n",
       "      <td>SOCIAL HISTORY: She is divorced and lives with...</td>\n",
       "      <td>1</td>\n",
       "      <td>0</td>\n",
       "      <td>1</td>\n",
       "    </tr>\n",
       "    <tr>\n",
       "      <th>2</th>\n",
       "      <td>Social History:  Social History           Soci...</td>\n",
       "      <td>0</td>\n",
       "      <td>1</td>\n",
       "      <td>0</td>\n",
       "    </tr>\n",
       "    <tr>\n",
       "      <th>3</th>\n",
       "      <td>SOCIAL HISTORY  Past Medical History:   Diagno...</td>\n",
       "      <td>0</td>\n",
       "      <td>0</td>\n",
       "      <td>0</td>\n",
       "    </tr>\n",
       "    <tr>\n",
       "      <th>4</th>\n",
       "      <td>Social History     Social History   \u0007 Marital ...</td>\n",
       "      <td>0</td>\n",
       "      <td>0</td>\n",
       "      <td>0</td>\n",
       "    </tr>\n",
       "    <tr>\n",
       "      <th>5</th>\n",
       "      <td>SOCIAL HISTORY:  Social History     Social His...</td>\n",
       "      <td>1</td>\n",
       "      <td>1</td>\n",
       "      <td>0</td>\n",
       "    </tr>\n",
       "    <tr>\n",
       "      <th>6</th>\n",
       "      <td>SOCIAL HISTORY  Past Medical History:   Diagno...</td>\n",
       "      <td>0</td>\n",
       "      <td>0</td>\n",
       "      <td>0</td>\n",
       "    </tr>\n",
       "    <tr>\n",
       "      <th>7</th>\n",
       "      <td>Social History:  She lives in ***** ***** in *...</td>\n",
       "      <td>1</td>\n",
       "      <td>0</td>\n",
       "      <td>1</td>\n",
       "    </tr>\n",
       "    <tr>\n",
       "      <th>8</th>\n",
       "      <td>Social History     Socioeconomic History   \u0007 M...</td>\n",
       "      <td>0</td>\n",
       "      <td>1</td>\n",
       "      <td>0</td>\n",
       "    </tr>\n",
       "    <tr>\n",
       "      <th>9</th>\n",
       "      <td>Social History     Social History Narrative   ...</td>\n",
       "      <td>0</td>\n",
       "      <td>0</td>\n",
       "      <td>0</td>\n",
       "    </tr>\n",
       "    <tr>\n",
       "      <th>10</th>\n",
       "      <td>Social History     Social History   \u0007 Marital ...</td>\n",
       "      <td>0</td>\n",
       "      <td>0</td>\n",
       "      <td>0</td>\n",
       "    </tr>\n",
       "    <tr>\n",
       "      <th>11</th>\n",
       "      <td>Social History     Social History Narrative   ...</td>\n",
       "      <td>1</td>\n",
       "      <td>0</td>\n",
       "      <td>0</td>\n",
       "    </tr>\n",
       "    <tr>\n",
       "      <th>12</th>\n",
       "      <td>Social History     Patient does not qualify to...</td>\n",
       "      <td>1</td>\n",
       "      <td>0</td>\n",
       "      <td>0</td>\n",
       "    </tr>\n",
       "    <tr>\n",
       "      <th>13</th>\n",
       "      <td>Social History     Social History   \u0007 Marital ...</td>\n",
       "      <td>0</td>\n",
       "      <td>0</td>\n",
       "      <td>0</td>\n",
       "    </tr>\n",
       "    <tr>\n",
       "      <th>14</th>\n",
       "      <td>SOCIAL HISTORY:  She has been divorced for man...</td>\n",
       "      <td>0</td>\n",
       "      <td>0</td>\n",
       "      <td>0</td>\n",
       "    </tr>\n",
       "    <tr>\n",
       "      <th>15</th>\n",
       "      <td>Social History         Social History Narrativ...</td>\n",
       "      <td>1</td>\n",
       "      <td>0</td>\n",
       "      <td>0</td>\n",
       "    </tr>\n",
       "    <tr>\n",
       "      <th>16</th>\n",
       "      <td>Social History     Social History Narrative   ...</td>\n",
       "      <td>0</td>\n",
       "      <td>1</td>\n",
       "      <td>1</td>\n",
       "    </tr>\n",
       "    <tr>\n",
       "      <th>17</th>\n",
       "      <td>SOCIAL HISTORY:    Social History     Socioeco...</td>\n",
       "      <td>1</td>\n",
       "      <td>1</td>\n",
       "      <td>0</td>\n",
       "    </tr>\n",
       "  </tbody>\n",
       "</table>\n",
       "</div>"
      ],
      "text/plain": [
       "                                                 TEXT  community_present  \\\n",
       "0   Social History     Social History   \u0007 Marital ...                  1   \n",
       "1   SOCIAL HISTORY: She is divorced and lives with...                  1   \n",
       "2   Social History:  Social History           Soci...                  0   \n",
       "3   SOCIAL HISTORY  Past Medical History:   Diagno...                  0   \n",
       "4   Social History     Social History   \u0007 Marital ...                  0   \n",
       "5   SOCIAL HISTORY:  Social History     Social His...                  1   \n",
       "6   SOCIAL HISTORY  Past Medical History:   Diagno...                  0   \n",
       "7   Social History:  She lives in ***** ***** in *...                  1   \n",
       "8   Social History     Socioeconomic History   \u0007 M...                  0   \n",
       "9   Social History     Social History Narrative   ...                  0   \n",
       "10  Social History     Social History   \u0007 Marital ...                  0   \n",
       "11  Social History     Social History Narrative   ...                  1   \n",
       "12  Social History     Patient does not qualify to...                  1   \n",
       "13  Social History     Social History   \u0007 Marital ...                  0   \n",
       "14  SOCIAL HISTORY:  She has been divorced for man...                  0   \n",
       "15  Social History         Social History Narrativ...                  1   \n",
       "16  Social History     Social History Narrative   ...                  0   \n",
       "17  SOCIAL HISTORY:    Social History     Socioeco...                  1   \n",
       "\n",
       "    economics  tobacco  \n",
       "0           0        0  \n",
       "1           0        1  \n",
       "2           1        0  \n",
       "3           0        0  \n",
       "4           0        0  \n",
       "5           1        0  \n",
       "6           0        0  \n",
       "7           0        1  \n",
       "8           1        0  \n",
       "9           0        0  \n",
       "10          0        0  \n",
       "11          0        0  \n",
       "12          0        0  \n",
       "13          0        0  \n",
       "14          0        0  \n",
       "15          0        0  \n",
       "16          1        1  \n",
       "17          1        0  "
      ]
     },
     "execution_count": 270,
     "metadata": {},
     "output_type": "execute_result"
    }
   ],
   "source": [
    "breast_df"
   ]
  },
  {
   "cell_type": "markdown",
   "metadata": {},
   "source": [
    "### Calculating the Statistics"
   ]
  },
  {
   "cell_type": "markdown",
   "metadata": {},
   "source": [
    "#### Pancreatic Cancer"
   ]
  },
  {
   "cell_type": "code",
   "execution_count": 244,
   "metadata": {},
   "outputs": [
    {
     "data": {
      "text/plain": [
       "13"
      ]
     },
     "execution_count": 244,
     "metadata": {},
     "output_type": "execute_result"
    }
   ],
   "source": [
    "len(pancreatic_df)"
   ]
  },
  {
   "cell_type": "code",
   "execution_count": 245,
   "metadata": {},
   "outputs": [
    {
     "data": {
      "text/plain": [
       "4"
      ]
     },
     "execution_count": 245,
     "metadata": {},
     "output_type": "execute_result"
    }
   ],
   "source": [
    "np.sum(pancreatic_df['community_present'] == 0)"
   ]
  },
  {
   "cell_type": "code",
   "execution_count": 246,
   "metadata": {},
   "outputs": [
    {
     "data": {
      "text/plain": [
       "30.76923076923077"
      ]
     },
     "execution_count": 246,
     "metadata": {},
     "output_type": "execute_result"
    }
   ],
   "source": [
    "(np.sum(pancreatic_df['community_present'] == 0)/len(pancreatic_df))*100"
   ]
  },
  {
   "cell_type": "code",
   "execution_count": 247,
   "metadata": {},
   "outputs": [
    {
     "data": {
      "text/plain": [
       "5"
      ]
     },
     "execution_count": 247,
     "metadata": {},
     "output_type": "execute_result"
    }
   ],
   "source": [
    "np.sum(pancreatic_df['economics'] == 0)"
   ]
  },
  {
   "cell_type": "code",
   "execution_count": 248,
   "metadata": {},
   "outputs": [
    {
     "data": {
      "text/plain": [
       "38.46153846153847"
      ]
     },
     "execution_count": 248,
     "metadata": {},
     "output_type": "execute_result"
    }
   ],
   "source": [
    "(np.sum(pancreatic_df['economics'] == 0)/len(pancreatic_df))*100"
   ]
  },
  {
   "cell_type": "code",
   "execution_count": 249,
   "metadata": {},
   "outputs": [
    {
     "data": {
      "text/plain": [
       "5"
      ]
     },
     "execution_count": 249,
     "metadata": {},
     "output_type": "execute_result"
    }
   ],
   "source": [
    "np.sum(pancreatic_df['tobacco'] == 0)"
   ]
  },
  {
   "cell_type": "code",
   "execution_count": 250,
   "metadata": {},
   "outputs": [
    {
     "data": {
      "text/plain": [
       "38.46153846153847"
      ]
     },
     "execution_count": 250,
     "metadata": {},
     "output_type": "execute_result"
    }
   ],
   "source": [
    "(np.sum(pancreatic_df['tobacco'] == 0)/len(pancreatic_df))*100"
   ]
  },
  {
   "cell_type": "markdown",
   "metadata": {},
   "source": [
    "#### Pancreatic Cancer Examples"
   ]
  },
  {
   "cell_type": "code",
   "execution_count": 277,
   "metadata": {},
   "outputs": [
    {
     "data": {
      "text/plain": [
       "TEXT                 SOCIAL HISTORY:  He smoked about a half a pack...\n",
       "community_present                                                    1\n",
       "economics                                                            1\n",
       "tobacco                                                              1\n",
       "Name: 0, dtype: object"
      ]
     },
     "execution_count": 277,
     "metadata": {},
     "output_type": "execute_result"
    }
   ],
   "source": [
    "pancreatic_df.iloc[0]"
   ]
  },
  {
   "cell_type": "code",
   "execution_count": 278,
   "metadata": {},
   "outputs": [
    {
     "name": "stdout",
     "output_type": "stream",
     "text": [
      "SOCIAL HISTORY:  He smoked about a half a pack of cigarettes per day for about 4 years, quitting in 2006. There is a prior history of alcohol abuse where he drank up to a pint of tequila day, but he has been drinking only socially more recently. He has a past history of heroin abuse, but has not used for several years.   He is accompanied by his mother ***** who works as a *****'***** ***** and his sister ***** who is an administrative *****.      PE:    Vitals:   Vitals: BP 131/90 | Pulse 64 | \n"
     ]
    }
   ],
   "source": [
    "text = pancreatic_df.iloc[0].TEXT\n",
    "print(text)"
   ]
  },
  {
   "cell_type": "code",
   "execution_count": 279,
   "metadata": {},
   "outputs": [],
   "source": [
    "human_family = 1\n",
    "human_tobacco = 1\n",
    "human_ecnomics = 0"
   ]
  },
  {
   "cell_type": "markdown",
   "metadata": {},
   "source": [
    "#### Breast Cancer"
   ]
  },
  {
   "cell_type": "code",
   "execution_count": 251,
   "metadata": {},
   "outputs": [
    {
     "data": {
      "text/plain": [
       "18"
      ]
     },
     "execution_count": 251,
     "metadata": {},
     "output_type": "execute_result"
    }
   ],
   "source": [
    "len(breast_df)"
   ]
  },
  {
   "cell_type": "code",
   "execution_count": 253,
   "metadata": {},
   "outputs": [
    {
     "data": {
      "text/plain": [
       "10"
      ]
     },
     "execution_count": 253,
     "metadata": {},
     "output_type": "execute_result"
    }
   ],
   "source": [
    "np.sum(breast_df['community_present'] == 0)"
   ]
  },
  {
   "cell_type": "code",
   "execution_count": 254,
   "metadata": {},
   "outputs": [
    {
     "data": {
      "text/plain": [
       "55.55555555555556"
      ]
     },
     "execution_count": 254,
     "metadata": {},
     "output_type": "execute_result"
    }
   ],
   "source": [
    "(np.sum(breast_df['community_present'] == 0)/len(breast_df))*100"
   ]
  },
  {
   "cell_type": "code",
   "execution_count": 255,
   "metadata": {},
   "outputs": [
    {
     "data": {
      "text/plain": [
       "13"
      ]
     },
     "execution_count": 255,
     "metadata": {},
     "output_type": "execute_result"
    }
   ],
   "source": [
    "np.sum(breast_df['economics'] == 0)"
   ]
  },
  {
   "cell_type": "code",
   "execution_count": 256,
   "metadata": {},
   "outputs": [
    {
     "data": {
      "text/plain": [
       "72.22222222222221"
      ]
     },
     "execution_count": 256,
     "metadata": {},
     "output_type": "execute_result"
    }
   ],
   "source": [
    "(np.sum(breast_df['economics'] == 0)/len(breast_df))*100"
   ]
  },
  {
   "cell_type": "code",
   "execution_count": 257,
   "metadata": {},
   "outputs": [
    {
     "data": {
      "text/plain": [
       "15"
      ]
     },
     "execution_count": 257,
     "metadata": {},
     "output_type": "execute_result"
    }
   ],
   "source": [
    "np.sum(breast_df['tobacco'] == 0)"
   ]
  },
  {
   "cell_type": "code",
   "execution_count": 258,
   "metadata": {},
   "outputs": [
    {
     "data": {
      "text/plain": [
       "83.33333333333334"
      ]
     },
     "execution_count": 258,
     "metadata": {},
     "output_type": "execute_result"
    }
   ],
   "source": [
    "(np.sum(breast_df['tobacco'] == 0)/len(breast_df))*100"
   ]
  },
  {
   "cell_type": "markdown",
   "metadata": {},
   "source": [
    "#### Breast Cancer Examples"
   ]
  },
  {
   "cell_type": "code",
   "execution_count": 282,
   "metadata": {},
   "outputs": [
    {
     "data": {
      "text/plain": [
       "TEXT                 SOCIAL HISTORY: She is divorced and lives with...\n",
       "community_present                                                    1\n",
       "economics                                                            0\n",
       "tobacco                                                              1\n",
       "Name: 1, dtype: object"
      ]
     },
     "execution_count": 282,
     "metadata": {},
     "output_type": "execute_result"
    }
   ],
   "source": [
    "breast_df.iloc[1]"
   ]
  },
  {
   "cell_type": "code",
   "execution_count": 283,
   "metadata": {},
   "outputs": [
    {
     "name": "stdout",
     "output_type": "stream",
     "text": [
      "SOCIAL HISTORY: She is divorced and lives with her 42-year-old son who  is unemployed.  She worked with the military.  She does not drink  alcohol.  She smoked cigarettes for 75-pack-years stopping more than 12  months ago.    \n"
     ]
    }
   ],
   "source": [
    "text = breast_df.iloc[1].TEXT\n",
    "print(text)"
   ]
  },
  {
   "cell_type": "code",
   "execution_count": null,
   "metadata": {},
   "outputs": [],
   "source": [
    "human_family = 1\n",
    "human_tobacco = 1\n",
    "human_ecnomics = 1"
   ]
  },
  {
   "cell_type": "code",
   "execution_count": null,
   "metadata": {},
   "outputs": [],
   "source": []
  }
 ],
 "metadata": {
  "kernelspec": {
   "display_name": "sdoh-cancer",
   "language": "python",
   "name": "python3"
  },
  "language_info": {
   "codemirror_mode": {
    "name": "ipython",
    "version": 3
   },
   "file_extension": ".py",
   "mimetype": "text/x-python",
   "name": "python",
   "nbconvert_exporter": "python",
   "pygments_lexer": "ipython3",
   "version": "3.9.19"
  }
 },
 "nbformat": 4,
 "nbformat_minor": 2
}
